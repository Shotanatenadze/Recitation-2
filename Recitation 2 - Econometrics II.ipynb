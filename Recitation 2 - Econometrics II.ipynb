{
 "cells": [
  {
   "cell_type": "markdown",
   "metadata": {},
   "source": [
    "## Problem 3"
   ]
  },
  {
   "cell_type": "markdown",
   "metadata": {},
   "source": [
    "Consider two models with the same set of explanatory variables:\n",
    "1. Linear  $y_{i}=\\beta_{1} \\cdot x_{i}+\\beta_{2} \\cdot z_{i}+u_{i}$ where $u_{i} \\sim N\\left(0, \\sigma_{u}^{2}\\right)$\n",
    "2. Log-linear - $\\ln y_{i}=\\gamma_{1} \\cdot x_{i}+\\gamma_{2} \\cdot z_{i}+v_{i}$ where $v_{i} \\sim N\\left(0, \\sigma_{v}^{2}\\right)$\n",
    "\n"
   ]
  },
  {
   "cell_type": "markdown",
   "metadata": {},
   "source": [
    "As we know, one of the statistical measure of goodness of fit (that is, explanatory power of the whole model) is $R^{2}$, however, in this case it is not applicable because the mathematical (algebraic) form of the dependent variable is different for each the model."
   ]
  },
  {
   "cell_type": "markdown",
   "metadata": {},
   "source": [
    "A correct, valid way of comparing these two models is to obtain the estimates of $y$ i.e. $\\hat{y}$ and then calculate $R^{2}$ coefficient as a square of correlation coefficient $\\operatorname{corr}(y, \\hat{y})$ between $y$ and $\\hat{y}$\n",
    ".\n",
    "\n",
    "BUT (!) is such type of approach valid for both of the models? "
   ]
  },
  {
   "cell_type": "markdown",
   "metadata": {},
   "source": [
    "For model 1. we definitely know (from Econometrics I) that - YES\n"
   ]
  },
  {
   "cell_type": "markdown",
   "metadata": {},
   "source": [
    "For model 2. it turns out that - NO. Let's see why:"
   ]
  },
  {
   "cell_type": "markdown",
   "metadata": {},
   "source": [
    "If you directly estimate the 2nd. model, you will get the following:\n",
    "$\\hat{\\ln y_{i}}=\\hat{\\gamma_{1}} \\cdot x_{i}+\\hat{\\gamma_{2}} \\cdot z_{i}$\n"
   ]
  },
  {
   "cell_type": "markdown",
   "metadata": {},
   "source": [
    "Now, in order to get the \"estimation\" of y exponentiate both sides: $e^{\\hat{\\ln y_{i}}}$= $\\hat{y_{i}^{*}}$ = $e^{\\hat{\\gamma_{1}} \\cdot x_{i}+\\hat{\\gamma_{2}} \\cdot z_{i}}$"
   ]
  },
  {
   "cell_type": "markdown",
   "metadata": {},
   "source": [
    "However, under the exponentiation operation we have used one very strong assumption and in order to see what's this assumption is, recall from the Econometrics I course that the goal of the econometric model is to estimate the AVERAGE behaviour of the dependent variable $y$."
   ]
  },
  {
   "cell_type": "markdown",
   "metadata": {},
   "source": [
    "If we take the expectation of the model1., we get: $E\\left[y_{i}\\right]= \\beta_{1} \\cdot x_{i}+\\beta_{2} \\cdot z_{i}$. Thus, after estimating the coefficients you will directly get the equation that describes how the AVERAGE value of $y$ changes\n"
   ]
  },
  {
   "cell_type": "markdown",
   "metadata": {},
   "source": [
    "Let's transform the original model 2. to get $y$ as the dependent variable by exponentiating both sides and then take the expectation:"
   ]
  },
  {
   "cell_type": "markdown",
   "metadata": {},
   "source": [
    "$e^{\\ln y_{i}}= {y_{i}}=e^{\\gamma_{1} \\cdot x_{i}+\\gamma_{2} \\cdot z_{i}+v_{i}}$"
   ]
  },
  {
   "cell_type": "markdown",
   "metadata": {},
   "source": [
    "Now take the expectation given $x$ and $z$:"
   ]
  },
  {
   "cell_type": "markdown",
   "metadata": {},
   "source": [
    "$E\\left[y_{i}\\right] = E\\left[e^{\\gamma_{1} \\cdot x_{i}+\\gamma_{2} \\cdot z_{i}+v_{i}}\\right] = E\\left[e^{\\gamma_{1} \\cdot x_{i}+\\gamma_{2} \\cdot z_{i}}\\right] \\cdot E\\left[e^{v_{i}}\\right] = e^{\\gamma_{1} \\cdot x_{i}+\\gamma_{2} \\cdot z_{i}} \\cdot \\underbrace{E\\left[e^{v_{i}}\\right]}_{\\delta}$\n",
    "\n",
    "\n"
   ]
  },
  {
   "cell_type": "markdown",
   "metadata": {},
   "source": [
    "So the assumption we have used above was that $\\delta$ = 1 and we don't know initialy whether it is right or wrong"
   ]
  },
  {
   "cell_type": "markdown",
   "metadata": {},
   "source": [
    "Problem now we are facing with is how to calculate $\\delta$. There are three commonly used methods:"
   ]
  },
  {
   "cell_type": "markdown",
   "metadata": {},
   "source": [
    "#### Approach 1"
   ]
  },
  {
   "cell_type": "markdown",
   "metadata": {},
   "source": [
    "If $v_{i} \\sim N\\left(0, \\sigma_{v}^{2}\\right)$ then $e^{v_{i}}$ is a LogNormal random variable, denoted by $v_{i} \\sim LogN\\left(0, \\sigma_{v}^{2}\\right)$ with the expected value of $E\\left[v_{i}\\right] = e^{\\sigma^{2}/2}$ (Wikipedia: https://en.wikipedia.org/wiki/Log-normal_distribution)"
   ]
  },
  {
   "cell_type": "markdown",
   "metadata": {},
   "source": [
    "so, in this case $\\delta$ = $e^{\\sigma^{2}/2}$ and its estimate, if we plug $\\hat{\\sigma^{2}}$ instead of ${\\sigma^{2}}$, is $\\hat{\\delta}$ = $e^{\\hat{\\sigma^{2}}/2}$"
   ]
  },
  {
   "cell_type": "markdown",
   "metadata": {},
   "source": [
    "#### Approach 2"
   ]
  },
  {
   "cell_type": "markdown",
   "metadata": {},
   "source": [
    "If $v_{i}$ is not a normal random variable then above approach is useless. Instead, we can use the Law of Large Numbers to approximate $e^{\\sigma^{2}/2}$ by its empirical estimation $\\frac{1}{n} \\sum_{i=1}^{n} e^{\\hat{v}_{i}}$\n"
   ]
  },
  {
   "cell_type": "markdown",
   "metadata": {},
   "source": [
    "#### Approach 3"
   ]
  },
  {
   "cell_type": "markdown",
   "metadata": {},
   "source": [
    "Another way to estimate $\\delta$ is to consider it as a slope of the following regression:"
   ]
  },
  {
   "cell_type": "markdown",
   "metadata": {},
   "source": [
    "$y_{i}$ = $\\delta*\\hat{y_{i}^{*}}$, where$\\hat{y_{i}^{*}} = e^{\\hat{\\gamma_{1}} \\cdot x_{i}+\\hat{\\gamma_{2}} \\cdot z_{i}}$"
   ]
  }
 ],
 "metadata": {
  "kernelspec": {
   "display_name": "Python 3",
   "language": "python",
   "name": "python3"
  },
  "language_info": {
   "codemirror_mode": {
    "name": "ipython",
    "version": 3
   },
   "file_extension": ".py",
   "mimetype": "text/x-python",
   "name": "python",
   "nbconvert_exporter": "python",
   "pygments_lexer": "ipython3",
   "version": "3.6.5"
  }
 },
 "nbformat": 4,
 "nbformat_minor": 2
}
